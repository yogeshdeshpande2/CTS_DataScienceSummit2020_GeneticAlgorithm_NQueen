{
 "cells": [
  {
   "cell_type": "markdown",
   "metadata": {},
   "source": [
    " Cognizant Data Science Summit 2020 : July 1, 2020\n",
    " \n",
    " Yogesh Deshpande [157456]\n"
   ]
  },
  {
   "cell_type": "markdown",
   "metadata": {},
   "source": [
    "# Week 1 challenge - Python\n",
    "\n",
    "Description\n",
    "\n",
    "The eight queens puzzle is the problem of placing eight chess queens on an 8×8 chessboard so that no two queens threaten each other; thus, a solution requires that no two queens share the same row, column, or diagonal. The eight queens puzzle is an example of the more general n queens problem of placing n non-attacking queens on an n×n chessboard. (Source : https://en.wikipedia.org/wiki/Eight_queens_puzzle )\t\n",
    "Challenge\n",
    "The challenge is to generate one right sequence through Genetic Programming. The sequence has to be 8 numbers between 0 to 7. Each number represents the positions the Queens can be placed. Each number refers to the row number in the specific column\n",
    "0\t3\t4\t5\t6\t1\t2\t4\n",
    "\n",
    "•\t0 is the row number in the column 0 where the Queen can be placed\n",
    "\n",
    "•\t3 is the row number in the column 1 where the Queen can be placed"
   ]
  },
  {
   "cell_type": "markdown",
   "metadata": {},
   "source": [
    "# Initiaze variables, functions' definitions"
   ]
  },
  {
   "cell_type": "code",
   "execution_count": 7,
   "metadata": {},
   "outputs": [],
   "source": [
    "import random\n",
    "\n",
    "# Set the variables as per the problem statement\n",
    "NumberofQueens = 8\n",
    "InitialPopulation = 1000000 # Initial population has number of chromozones out of which one or more are possible solutions\n",
    "NumberofIterations = 1000 # Number of generations to check for possible solution"
   ]
  },
  {
   "cell_type": "code",
   "execution_count": 8,
   "metadata": {},
   "outputs": [],
   "source": [
    "def create_chromozone(NumberofQueens):\n",
    "    chromozone = []\n",
    "    for gene in range(NumberofQueens):\n",
    "        chromozone.append(random.randint(0, NumberofQueens-1))\n",
    "    return chromozone\n",
    "    #print(chromozone)\n",
    "\n",
    "# Unit testing\n",
    "# create_chromozone(NumberofQueens)"
   ]
  },
  {
   "cell_type": "code",
   "execution_count": 9,
   "metadata": {},
   "outputs": [],
   "source": [
    "def create_population(NumberofQueens, InitialPopulation):\n",
    "    Population = []\n",
    "    for chromozone in range(InitialPopulation):\n",
    "        Population.append(create_chromozone(NumberofQueens))\n",
    "    #print(Population)\n",
    "    return Population\n",
    "\n",
    "# Unit testing\n",
    "#create_population(NumberofQueens, InitialPopulation)"
   ]
  },
  {
   "cell_type": "code",
   "execution_count": 10,
   "metadata": {},
   "outputs": [],
   "source": [
    "def fitness_calculation(chromosome, maxFitness):\n",
    "    horizontal_collisions = sum([chromosome.count(i) - 1 for i in chromosome])/2\n",
    "    diagonal_collisions = 0\n",
    "    for record in range(1,len(chromosome)+1):\n",
    "        column1 = record-1\n",
    "        row1 = chromosome[column1]\n",
    "        for i in range (column1+1, len(chromosome)):\n",
    "            column2 = i\n",
    "            row2 = chromosome[i]\n",
    "            deltaRow = abs(row1 - row2)\n",
    "            deltaCol = abs(column1 - column2)\n",
    "            if (deltaRow == deltaCol):\n",
    "                #print(\"######## Collision detected ##############\")\n",
    "                diagonal_collisions = diagonal_collisions + 1\n",
    "    #print(\"Horizontal Collisions are {} and Diagonal are {} \".format(horizontal_collisions, diagonal_collisions))\n",
    "    fitness_score = maxFitness - (horizontal_collisions + diagonal_collisions)\n",
    "    #print(\"The fitness score is {}\".format(fitness_score))\n",
    "    return fitness_score\n",
    "\n",
    "#Unit Test\n",
    "#itness_calculation([4, 1, 5, 8, 2, 7, 3, 6], 28)"
   ]
  },
  {
   "cell_type": "code",
   "execution_count": 11,
   "metadata": {},
   "outputs": [],
   "source": [
    "def strength_of_chromosome(chromosome, maxFitness):\n",
    "    return fitness_calculation(chromosome, maxFitness) / maxFitness\n",
    "\n",
    "#Unit Test\n",
    "#strength_of_chromosome([1, 1, 1, 1, 1, 1, 1, 1], 28)\n",
    "#strength_of_chromosome([4, 1, 5, 8, 2, 7, 3, 6], 28)"
   ]
  },
  {
   "cell_type": "code",
   "execution_count": null,
   "metadata": {},
   "outputs": [],
   "source": []
  },
  {
   "cell_type": "markdown",
   "metadata": {},
   "source": [
    "# Main Program for solution to get a 8-Queen sequence"
   ]
  },
  {
   "cell_type": "code",
   "execution_count": 12,
   "metadata": {},
   "outputs": [
    {
     "name": "stdout",
     "output_type": "stream",
     "text": [
      "Maximum score to achive is = 28.0\n",
      "generation counter = 0, MaxPopulationScore = 28.0\n",
      "Solved in generation 1\n",
      "Solution =======> [6, 2, 7, 1, 4, 0, 5, 3]\n",
      "Solution =======> [5, 2, 4, 6, 0, 3, 1, 7]\n",
      "Solution =======> [3, 5, 0, 4, 1, 7, 2, 6]\n",
      "Solution =======> [3, 7, 0, 2, 5, 1, 6, 4]\n",
      "Solution =======> [6, 4, 2, 0, 5, 7, 1, 3]\n",
      "Solution =======> [2, 4, 1, 7, 5, 3, 6, 0]\n"
     ]
    }
   ],
   "source": [
    "# Main Program\n",
    "\n",
    "if __name__ == \"__main__\":\n",
    "    # Calulate the target Fitness\n",
    "    TargetFitness = (NumberofQueens * (NumberofQueens - 1)) /2\n",
    "    print(\"Maximum score to achive is = {}\".format(TargetFitness))\n",
    "    \n",
    "    # Inital population\n",
    "    Population = create_population(NumberofQueens, InitialPopulation)\n",
    "    \n",
    "    generation_counter = 0\n",
    "    for iteration in range(NumberofIterations):\n",
    "        MaxPopulationScore = max([fitness_calculation(chromozone, TargetFitness) for chromozone in Population])\n",
    "        print(\"generation counter = {}, MaxPopulationScore = {}\".format(generation_counter, MaxPopulationScore))\n",
    "        \n",
    "        if (MaxPopulationScore != TargetFitness):\n",
    "            # If the current population has no score matching target score, continue with next generation\n",
    "            generation_counter = generation_counter + 1\n",
    "        else:\n",
    "            # Target score is achieved at this stage\n",
    "            break\n",
    "        \n",
    "    print(\"Solved in generation {}\".format(generation_counter+1))\n",
    "    for chromosome in Population:\n",
    "        if (fitness_calculation(chromosome, TargetFitness) == TargetFitness):\n",
    "            print(\"Solution =======> {}\".format(chromosome))"
   ]
  }
 ],
 "metadata": {
  "kernelspec": {
   "display_name": "Python 3",
   "language": "python",
   "name": "python3"
  },
  "language_info": {
   "codemirror_mode": {
    "name": "ipython",
    "version": 3
   },
   "file_extension": ".py",
   "mimetype": "text/x-python",
   "name": "python",
   "nbconvert_exporter": "python",
   "pygments_lexer": "ipython3",
   "version": "3.7.6"
  }
 },
 "nbformat": 4,
 "nbformat_minor": 4
}
